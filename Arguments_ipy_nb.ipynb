{
  "nbformat": 4,
  "nbformat_minor": 0,
  "metadata": {
    "colab": {
      "provenance": [],
      "authorship_tag": "ABX9TyN7gf8Z2gBQQeDlCt4cycLT",
      "include_colab_link": true
    },
    "kernelspec": {
      "name": "python3",
      "display_name": "Python 3"
    },
    "language_info": {
      "name": "python"
    }
  },
  "cells": [
    {
      "cell_type": "markdown",
      "metadata": {
        "id": "view-in-github",
        "colab_type": "text"
      },
      "source": [
        "<a href=\"https://colab.research.google.com/github/KIISIISHERE/Arguments/blob/main/Arguments_ipy_nb.ipynb\" target=\"_parent\"><img src=\"https://colab.research.google.com/assets/colab-badge.svg\" alt=\"Open In Colab\"/></a>"
      ]
    },
    {
      "cell_type": "code",
      "execution_count": null,
      "metadata": {
        "colab": {
          "base_uri": "https://localhost:8080/"
        },
        "collapsed": true,
        "id": "KfFrG_cO6AvX",
        "outputId": "90870df5-ddb6-4ab2-920a-16ee3c22f7d0"
      },
      "outputs": [
        {
          "output_type": "stream",
          "name": "stdout",
          "text": [
            "Enter the Bill amount: $ 200\n",
            "Enter the Tip Percentage: ? 15\n",
            "The Total Amount To Be Paid Is: $, 230.00\n"
          ]
        }
      ],
      "source": [
        "#Activity 1-Tip the Waiter\n",
        "def total_calc():\n",
        "    # Ask the User For The Bill Amount and Tip Percentage\n",
        "    bill_amount = float(input(\"Enter the Bill amount: $ \"))\n",
        "    tip_perc = float(input(\"Enter the Tip Percentage: ? \"))\n",
        "    #Calculate The Tip Amount\n",
        "    tip_amount = (tip_perc / 100) * bill_amount\n",
        "    # Calculate The Total Amount To Be Paid\n",
        "    total_amount = bill_amount + tip_amount\n",
        "    # Print The Total Amount\n",
        "    print(f\"The Total Amount To Be Paid Is: $, {total_amount:.2f}\")\n",
        "# Call The Function\n",
        "total_calc()"
      ]
    },
    {
      "cell_type": "code",
      "source": [
        "from ctypes import c_ubyte\n",
        "# Activity 2-Cube of The Cube\n",
        "def find_cube(number):\n",
        "  # Calculate and Return The Cube Of The Number\n",
        "  return number ** 3\n",
        "def check_and_execute(number):\n",
        "  #Check If The Number Is Divisible By 3\n",
        "  if number % 3 ==0:\n",
        "    # If Divisible By 3, call the find_cube function\n",
        "    cube = find_cube(number)\n",
        "    print(f\"The Cube Of {number} Is: {cube}\")\n",
        "  else:\n",
        "    print(f\"{number} Is Not Divisible By 3.\")\n",
        "number = int(input(\"Enter A Number: \"))\n",
        "check_and_execute(number)"
      ],
      "metadata": {
        "id": "eQqRpKIa9glp"
      },
      "execution_count": null,
      "outputs": []
    }
  ]
}